{
 "cells": [
  {
   "cell_type": "code",
   "execution_count": null,
   "metadata": {},
   "outputs": [],
   "source": [
    "import larpix\n",
    "from larpix.larpix import *"
   ]
  },
  {
   "cell_type": "code",
   "execution_count": null,
   "metadata": {},
   "outputs": [],
   "source": [
    "# Creating a LArPix Controller\n",
    "\n",
    "from larpix.io.fakeio import FakeIO\n",
    "from larpix.logger.stdout_logger import StdoutLogger\n",
    "controller = Controller()\n",
    "controller.io = FakeIO()\n",
    "controller.logger = StdoutLogger(buffer_length=0)\n",
    "controller.logger.enable()"
   ]
  },
  {
   "cell_type": "code",
   "execution_count": null,
   "metadata": {},
   "outputs": [],
   "source": [
    "# Setting Up LArPix Chips\n",
    "\n",
    "chipID = 5\n",
    "chip_key = '1-1-5'\n",
    "chip5 = controller.add_chip(chip_key)\n",
    "chip5 = controller.get_chip(chip_key)"
   ]
  },
  {
   "cell_type": "code",
   "execution_count": null,
   "metadata": {},
   "outputs": [],
   "source": [
    "chip5"
   ]
  },
  {
   "cell_type": "code",
   "execution_count": null,
   "metadata": {},
   "outputs": [],
   "source": [
    "# chip_key field specifies info for controller.io to route packets to/from the chip\n",
    "# for each larpix.io class, thr chip key consists of 3 1-byte integer values, specified as:\n",
    "\n",
    "# IO Group:\n",
    "    # Highest Layer\n",
    "    # represents a control sys that communicates with multiple IO channels\n",
    "\n",
    "# IO Channel:\n",
    "    # Middle Layer\n",
    "    # represents a single MOSI/MISO pair\n",
    "\n",
    "# Chip ID:\n",
    "    # Lowest Layer\n",
    "    #represents a single chip on a MISO/MOSI network\n",
    "\n",
    "# To interact with chip keys directly, use a valid keystring ('#-#-#')\n",
    "\n",
    "from larpix.larpix import Key\n",
    "\n",
    "example_key = Key('1-2-3')\n",
    "\n",
    "print(example_key.io_group)\n",
    "print(example_key.io_channel)\n",
    "print(example_key.chip_id)\n",
    "\n",
    "print(example_key.to_dict())"
   ]
  },
  {
   "cell_type": "code",
   "execution_count": null,
   "metadata": {},
   "outputs": [],
   "source": []
  },
  {
   "cell_type": "code",
   "execution_count": null,
   "metadata": {},
   "outputs": [],
   "source": []
  },
  {
   "cell_type": "code",
   "execution_count": null,
   "metadata": {},
   "outputs": [],
   "source": [
    "# Adjusting the Config of the LArPix chips\n",
    "\n",
    "chip5.config.global_threshold = 35 # Entire Register = 1 number --- what does this mean?\n",
    "chip5.config.periodic_reset = 1 # one bit as part of a register\n",
    "chip5.config.channel_mask[20] = 1 # one bit per channel"
   ]
  },
  {
   "cell_type": "code",
   "execution_count": null,
   "metadata": {},
   "outputs": [],
   "source": [
    "controller.write_configuration(chip_key)\n",
    "#controller.write_configuration(chip_key, 32)\n",
    "#controller.write_configuration(chip_key, [32, 50])\n",
    "\n",
    "# All the registers were sent, an obsevation can be made that there exists 63 registers (0-62)"
   ]
  },
  {
   "cell_type": "code",
   "execution_count": null,
   "metadata": {},
   "outputs": [],
   "source": [
    "controller.write_configuration(chip_key, 32) #sends only register 32"
   ]
  },
  {
   "cell_type": "code",
   "execution_count": null,
   "metadata": {},
   "outputs": [],
   "source": [
    "controller.write_configuration(chip_key, [32, 50]) #sends both register 32 and 50"
   ]
  },
  {
   "cell_type": "code",
   "execution_count": null,
   "metadata": {},
   "outputs": [],
   "source": []
  },
  {
   "cell_type": "code",
   "execution_count": null,
   "metadata": {},
   "outputs": [],
   "source": []
  },
  {
   "cell_type": "code",
   "execution_count": null,
   "metadata": {},
   "outputs": [],
   "source": [
    "chip5.config.global_threshold_address"
   ]
  },
  {
   "cell_type": "code",
   "execution_count": null,
   "metadata": {},
   "outputs": [],
   "source": [
    "controller.read_configuration(chip_key)"
   ]
  },
  {
   "cell_type": "code",
   "execution_count": null,
   "metadata": {},
   "outputs": [],
   "source": [
    "packets = chip5.get_configuration_packets(Packet.CONFIG_READ_PACKET)\n",
    "bytestream = b'bytes for the config read packets'\n",
    "controller.io.queue.append((packets, bytestream))"
   ]
  },
  {
   "cell_type": "code",
   "execution_count": null,
   "metadata": {},
   "outputs": [],
   "source": []
  },
  {
   "cell_type": "code",
   "execution_count": null,
   "metadata": {},
   "outputs": [],
   "source": []
  },
  {
   "cell_type": "code",
   "execution_count": null,
   "metadata": {},
   "outputs": [],
   "source": [
    "# Receiving data from LArPix ASIC's\n",
    "# Probably not going to work unless it's hooked up to something...\n",
    "\n",
    "controller.start_listening()\n",
    "# Data arrives...\n",
    "packets, bytestream = controller.read()\n",
    "#More data arrives...\n",
    "packets2, bytestream2 = controller.read()\n",
    "controller.stop_listening()\n",
    "\n",
    "message = 'Data has arrived'\n",
    "message2 = 'More data has arrived'\n",
    "\n",
    "controller.store_packets(packets, bytestream, message)\n",
    "controller.store_packets(packets2, bytestream2, message2)"
   ]
  },
  {
   "cell_type": "code",
   "execution_count": null,
   "metadata": {},
   "outputs": [],
   "source": []
  },
  {
   "cell_type": "code",
   "execution_count": null,
   "metadata": {},
   "outputs": [],
   "source": []
  },
  {
   "cell_type": "code",
   "execution_count": null,
   "metadata": {},
   "outputs": [],
   "source": []
  },
  {
   "cell_type": "code",
   "execution_count": null,
   "metadata": {},
   "outputs": [],
   "source": []
  },
  {
   "cell_type": "code",
   "execution_count": null,
   "metadata": {},
   "outputs": [],
   "source": [
    "from larpix.larpix import Controller, Packet\n",
    "from larpix.io.fakeio import FakeIO \n",
    "from larpix.logger.stdout_logger import StdoutLogger "
   ]
  },
  {
   "cell_type": "code",
   "execution_count": null,
   "metadata": {},
   "outputs": [],
   "source": [
    "# Controller\n",
    "##########################################################################################\n",
    "controller = Controller()\n",
    "controller.io = FakeIO()\n",
    "controller.logger = StdoutLogger(buffer_length = 0)\n",
    "controller.logger.enable()\n",
    "##########################################################################################"
   ]
  },
  {
   "cell_type": "code",
   "execution_count": null,
   "metadata": {},
   "outputs": [],
   "source": [
    "chip1 = controller.add_chip('1-1-5')\n",
    "chip1.config.global_threshold = 25\n",
    "controller.write_configuration('1-1-5')"
   ]
  },
  {
   "cell_type": "code",
   "execution_count": null,
   "metadata": {},
   "outputs": [],
   "source": [
    "packet = Packet(b'\\x04\\x14\\x80\\xc4\\x03\\xf2 ')\n",
    "packet_bytes = packet.bytes()\n",
    "pretend_input = ([packet], packet_bytes)\n",
    "controller.io.queue.append(pretend_input)\n",
    "controller.run(0.001, 'test run')\n",
    "print(controller.reads[0])\n",
    "\n",
    "\n",
    "#controller.logger.disable()"
   ]
  },
  {
   "cell_type": "code",
   "execution_count": null,
   "metadata": {},
   "outputs": [],
   "source": []
  },
  {
   "cell_type": "code",
   "execution_count": null,
   "metadata": {},
   "outputs": [],
   "source": []
  },
  {
   "cell_type": "code",
   "execution_count": null,
   "metadata": {},
   "outputs": [],
   "source": []
  },
  {
   "cell_type": "code",
   "execution_count": 1,
   "metadata": {},
   "outputs": [],
   "source": [
    "%matplotlib inline\n",
    "import numpy as np\n",
    "import pandas as pd\n",
    "import matplotlib.pyplot as plt"
   ]
  },
  {
   "cell_type": "code",
   "execution_count": 34,
   "metadata": {},
   "outputs": [],
   "source": [
    "# mean +/- SEM\n",
    "# SEM = std. dev / sqrt(sample size)\n",
    "# error bars are the SEM\n",
    "\n",
    "vol = np.array([5, 10, 15, 20, 25, 30, 35, 40, 45, 50, 55, 60])\n",
    "mass = np.array([14, 20, 24, 28, 32, 36, 42, 46, 50, 54, 58, 64])\n",
    "\n",
    "vol_mean = np.mean(vol)\n",
    "mass_mean = np.mean(mass)\n",
    "\n",
    "mass_dev = np.std(mass)\n",
    "sem = mass_dev / np.sqrt(mass.size)\n",
    "best_fit = (0.88111888 * vol) + 10.364\n",
    "worst_fit_max = (0.988978 * vol) + 10.364\n",
    "worst_fit_min = (0.829203 * vol) + 10.364"
   ]
  },
  {
   "cell_type": "code",
   "execution_count": 41,
   "metadata": {},
   "outputs": [
    {
     "data": {
      "image/png": "[encoded data removed]",
      "text/plain": [
       "<Figure size 432x288 with 1 Axes>"
      ]
     },
     "metadata": {},
     "output_type": "display_data"
    }
   ],
   "source": [
    "plt.title('Mass vs. Volume')\n",
    "plt.xlabel('Volume (mL)')\n",
    "plt.ylabel('Mass (g)')\n",
    "plt.scatter(vol, mass, color = 'red')\n",
    "plt.errorbar(vol, mass, yerr = sem, color = 'red', fmt = 'o')\n",
    "\n",
    "plt.plot(vol, best_fit)\n",
    "plt.plot(vol, worst_fit_max)\n",
    "plt.plot(vol, worst_fit_min)\n",
    "\n",
    "plt.legend(('Best Fit', 'Worst Fit (max)', 'Worst Fit (min)'), loc = 'upper left')\n",
    "plt.show()"
   ]
  },
  {
   "cell_type": "code",
   "execution_count": null,
   "metadata": {},
   "outputs": [],
   "source": []
  },
  {
   "cell_type": "code",
   "execution_count": null,
   "metadata": {},
   "outputs": [],
   "source": []
  },
  {
   "cell_type": "code",
   "execution_count": 55,
   "metadata": {},
   "outputs": [
    {
     "data": {
      "image/png": "[encoded data removed]",
      "text/plain": [
       "<Figure size 1224x720 with 2 Axes>"
      ]
     },
     "metadata": {},
     "output_type": "display_data"
    }
   ],
   "source": [
    "time = np.array([0, 1, 2, 3, 4, 5, 6, 7, 8, 9, 10])\n",
    "count = np.array([800, 593, 439, 325, 241, 179, 132, 98, 73, 54, 40])\n",
    "\n",
    "count_mean = np.mean(count)\n",
    "count_dev = np.std(count)\n",
    "sem = count_dev / np.sqrt(count.size)\n",
    "sem_log = np.log(sem)\n",
    "\n",
    "fig, axes = plt.subplots(1, 2, figsize = (17,10))\n",
    "\n",
    "axes[0].scatter(time, count)\n",
    "axes[0].errorbar(time, count, yerr = sem, fmt = 'o')\n",
    "\n",
    "axes[1].set_yscale('log')\n",
    "axes[1].scatter(time, count)\n",
    "#axes[1].errorbar(time, count, yerr = sem_log, fmt = 'o')\n",
    "\n",
    "plt.show()"
   ]
  },
  {
   "cell_type": "code",
   "execution_count": null,
   "metadata": {},
   "outputs": [],
   "source": []
  }
 ],
 "metadata": {
  "kernelspec": {
   "display_name": "Python 3",
   "language": "python",
   "name": "python3"
  },
  "language_info": {
   "codemirror_mode": {
    "name": "ipython",
    "version": 3
   },
   "file_extension": ".py",
   "mimetype": "text/x-python",
   "name": "python",
   "nbconvert_exporter": "python",
   "pygments_lexer": "ipython3",
   "version": "3.6.5"
  }
 },
 "nbformat": 4,
 "nbformat_minor": 2
}
