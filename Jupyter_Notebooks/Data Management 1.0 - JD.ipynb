{
 "cells": [
  {
   "cell_type": "code",
   "execution_count": 13,
   "metadata": {},
   "outputs": [],
   "source": [
    "# Generated Fake Data (use only for the FakeIO class)\n",
    "# control hex string: b'\\x04\\x14\\x80\\xc4\\x03\\xf2 '\n",
    "\n",
    "# control variables:\n",
    "# Chip: 1\n",
    "# Channel: 5\n",
    "# Parity Bit Validity: True\n",
    "\n",
    "class Data_Manipulated_Hex:\n",
    "\n",
    "    def __init__(self):\n",
    "        ''' Timestamp: 123456 '''\n",
    "        self.data_packet1 = b'\\x04\\x14\\x80\\xc4\\x03\\x02 ' # ADC Data: 0\n",
    "        self.data_packet2 = b'\\x04\\x14\\x80\\xc4\\x032 '\t # ADC Data: 24\n",
    "        self.data_packet3 = b'\\x04\\x14\\x80\\xc4\\x03R '\t # ADC Data: 40\n",
    "        self.data_packet4 = b'\\x04\\x14\\x80\\xc4\\x03b '\t # ADC Data: 48\n",
    "        self.data_packet5 = b'\\x04\\x14\\x80\\xc4\\x03\\x92 ' # ADC Data: 72\n",
    "        self.data_packet6 = b'\\x04\\x14\\x80\\xc4\\x03\\xa2 ' # ADC Data: 80\n",
    "        self.data_packet7 = b'\\x04\\x14\\x80\\xc4\\x03\\xc2 ' # ADC Data: 96\n",
    "        self.data_packet8 = b'\\x04\\x14\\x80\\xc4\\x03\\xf2 ' # ADC Data: 120\n",
    "\n",
    "\n",
    "class Time_Manipulated_Hex:\n",
    "\n",
    "    def __init__(self):\n",
    "        ''' ADC Data: 120 '''\n",
    "        self.time_packet1 = b'\\x04\\x14\\x80\\x04\\x03\\xf2 ' # Timestamp: 98880\n",
    "        self.time_packet2 = b'\\x04\\x14\\x804\\x03\\xf2 '\t # Timestamp: 105024\n",
    "        self.time_packet3 = b'\\x04\\x14\\x80T\\x03\\xf2 '\t # Timestamp: 109120\n",
    "        self.time_packet4 = b'\\x04\\x14\\x80d\\x03\\xf2 ' \t # Timestamp: 111168\n",
    "        self.time_packet5 = b'\\x04\\x14\\x80\\x94\\x03\\xf2 ' # Timestamp: 117312\n",
    "        self.time_packet6 = b'\\x04\\x14\\x80\\xa4\\x03\\xf2 ' # Timestamp: 119360\n",
    "        self.time_packet7 = b'\\x04\\x14\\x80\\xc4\\x03\\xf2 ' # Timestamp: 123456\n",
    "        self.time_packet8 = b'\\x04\\x14\\x80\\xf4\\x03\\xf2 ' # Timestamp: 129600\n"
   ]
  },
  {
   "cell_type": "code",
   "execution_count": 14,
   "metadata": {},
   "outputs": [],
   "source": [
    "%matplotlib inline\n",
    "from larpix.larpix import *\n",
    "from larpix.io.fakeio import FakeIO\n",
    "from larpix.logger.h5_logger import HDF5Logger\n",
    "import h5py\n",
    "import numpy as np\n",
    "import matplotlib.pyplot as plt\n",
    "\n",
    "\n",
    "class Data_Collection:\n",
    "\n",
    "    def __init__(self, name_of_file, chip_id):\n",
    "        self.data_packets = Data_Manipulated_Hex()\n",
    "        self.time_packets = Time_Manipulated_Hex()\n",
    "        \n",
    "        self.save_to_file = name_of_file\n",
    "        self.chip_id = chip_id\n",
    "        self.controller = Controller()\n",
    "        self.controller.io = FakeIO()\n",
    "        self.controller.logger = HDF5Logger(filename = self.save_to_file, buffer_length = 10000)\n",
    "\n",
    "        self.controller.logger.enable()\n",
    "\n",
    "        self.chip = self.controller.add_chip(self.chip_id)\n",
    "        \n",
    "        self.data_array = []\n",
    "\n",
    "\n",
    "    def chip_modification(self, g_threshold, per_reset = None, channel_msk = None):\n",
    "        key = chip_id\n",
    "        chip.config.global_threshold = g_threshold\n",
    "        chip.config.periodic_reset = per_reset\n",
    "        #chip.config.channel_mask = channel_msk\n",
    "\n",
    "        print(\"Writing chip configuration...\")\n",
    "        print(self.controller.write_configuration(key))\n",
    "\n",
    "\n",
    "    def data_trial(self, packet_key, time, message):\n",
    "        packet = Packet(packet_key)\n",
    "        packet_bytes = packet.bytes()\n",
    "\n",
    "        trial_input = ([packet], packet_bytes)\n",
    "        self.controller.io.queue.append(trial_input)\n",
    "\n",
    "        print(\"Data is collecting...\")\n",
    "        self.controller.run(time, message)\n",
    "        print(\"Data collected!\")\n",
    "\n",
    "\n",
    "    def _end_collection_process(self):\n",
    "        self.controller.logger.disable()\n",
    "\n",
    "\n",
    "    def retrieve_data(self):\n",
    "        self._end_collection_process()\n",
    "\n",
    "        print(\"Completed: This is the collected data...\")\n",
    "        print(self.controller.reads)\n",
    "\n",
    "        \n",
    "    def data_specs(self, index):\n",
    "        run = self.controller.reads[index]\n",
    "\n",
    "        packet_data = run[index] # >>> bitarray('00')\n",
    "        \n",
    "        #print(\"Packet Type: \" + str(packet_data.packet_type)) # >>> 1\n",
    "        print(\"Chip ID: \" + str(packet_data.chipid)) # >>> 1\n",
    "        print(\"Chip Key: \" + str(packet_data.chip_key))\n",
    "        print(\"Parity Bit Value: \" + str(packet_data.parity_bit_value)) # >>> 1\n",
    "        print(\"Channel ID: \" + str(packet_data.channel_id)) # >>> 5\n",
    "        print(\"Dataword: \" + str(packet_data.dataword)) # >>> 120\n",
    "        print(\"Timestamp: \" + str(packet_data.timestamp)) # >>> 123456\n",
    "        print(\"Fifo Full Flag: \" + str(packet_data.fifo_full_flag)) # >>> 0 (1 or 0)\n",
    "        print(\"Fifo Half Flag: \" + str(packet_data.fifo_half_flag)) # >>> 0 (1 or 0)\n",
    "        print(\"Register Address: \" + str(packet_data.register_address)) # >>> 5\n",
    "        print(\"Register Data: \" + str(packet_data.register_data)) # >>> 32\n",
    "        print(\"Test Counter: \" + str(packet_data.test_counter)) # >>> 20601\n",
    "        \n",
    "    def read_file(self):\n",
    "        file = h5py.File(self.save_to_file, 'r')\n",
    "        \n",
    "        print(list(file.keys()))\n",
    "        print(file['packets'][0])\n",
    "        returned_values = file['packets'][0]\n",
    "        self.data_array = returned_values\n",
    "        \n",
    "        file.close()\n",
    "        \n",
    "    def plot_data(self, title): # ADC data vs timestamp scatter plot\n",
    "        refined_data_arr = [self.data_array[6], self.data_array[7]]\n",
    "        \n",
    "        plt.title(title)\n",
    "        plt.xlabel(\"Timestamp\")\n",
    "        plt.ylabel(\"ADC Data\")\n",
    "        plt.scatter(refined_data_arr[0], refined_data_arr[1], color = 'black')\n",
    "        plt.show()"
   ]
  },
  {
   "cell_type": "code",
   "execution_count": null,
   "metadata": {},
   "outputs": [],
   "source": []
  },
  {
   "cell_type": "code",
   "execution_count": 15,
   "metadata": {},
   "outputs": [],
   "source": [
    "trial = Data_Collection('trial010', '1-1-5')"
   ]
  },
  {
   "cell_type": "code",
   "execution_count": 16,
   "metadata": {},
   "outputs": [
    {
     "name": "stdout",
     "output_type": "stream",
     "text": [
      "Data is collecting...\n",
      "Data collected!\n"
     ]
    }
   ],
   "source": [
    "trial.data_trial(packet_key = b'\\x04\\x14\\x80\\xc4\\x032 ', time = 0.05, message = 'trial010')"
   ]
  },
  {
   "cell_type": "code",
   "execution_count": 17,
   "metadata": {},
   "outputs": [],
   "source": [
    "#trial1.end_collection_process()"
   ]
  },
  {
   "cell_type": "code",
   "execution_count": 18,
   "metadata": {},
   "outputs": [
    {
     "name": "stdout",
     "output_type": "stream",
     "text": [
      "Completed: This is the collected data...\n",
      "[<PacketCollection with 1 packets, read_id 0, \"trial010\">]\n"
     ]
    }
   ],
   "source": [
    "trial.retrieve_data()"
   ]
  },
  {
   "cell_type": "code",
   "execution_count": 19,
   "metadata": {},
   "outputs": [
    {
     "name": "stdout",
     "output_type": "stream",
     "text": [
      "Chip ID: 1\n",
      "Chip Key: None\n",
      "Parity Bit Value: 1\n",
      "Channel ID: 5\n",
      "Dataword: 24\n",
      "Timestamp: 123456\n",
      "Fifo Full Flag: 0\n",
      "Fifo Half Flag: 0\n",
      "Register Address: 5\n",
      "Register Data: 32\n",
      "Test Counter: 20505\n"
     ]
    }
   ],
   "source": [
    "trial.data_specs(0)"
   ]
  },
  {
   "cell_type": "code",
   "execution_count": 20,
   "metadata": {},
   "outputs": [
    {
     "name": "stdout",
     "output_type": "stream",
     "text": [
      "['_header', 'messages', 'packets']\n",
      "(b'None', 0, 1, 1, 1, 5, 123456, 24, 0, 0, 0, 0, 0, 0)\n"
     ]
    }
   ],
   "source": [
    "trial.read_file()"
   ]
  },
  {
   "cell_type": "code",
   "execution_count": 21,
   "metadata": {},
   "outputs": [
    {
     "data": {
      "text/plain": [
       "(b'None', 0, 1, 1, 1, 5, 123456, 24, 0, 0, 0, 0, 0, 0)"
      ]
     },
     "execution_count": 21,
     "metadata": {},
     "output_type": "execute_result"
    }
   ],
   "source": [
    "trial.data_array"
   ]
  },
  {
   "cell_type": "code",
   "execution_count": 22,
   "metadata": {},
   "outputs": [
    {
     "data": {
      "image/png": "[encoded data removed]",
      "text/plain": [
       "<Figure size 432x288 with 1 Axes>"
      ]
     },
     "metadata": {},
     "output_type": "display_data"
    }
   ],
   "source": [
    "trial.plot_data(\"Channel 5 Snapshot\")"
   ]
  },
  {
   "cell_type": "code",
   "execution_count": null,
   "metadata": {},
   "outputs": [],
   "source": []
  },
  {
   "cell_type": "code",
   "execution_count": null,
   "metadata": {},
   "outputs": [],
   "source": []
  },
  {
   "cell_type": "code",
   "execution_count": null,
   "metadata": {},
   "outputs": [],
   "source": []
  },
  {
   "cell_type": "code",
   "execution_count": null,
   "metadata": {},
   "outputs": [],
   "source": []
  }
 ],
 "metadata": {
  "kernelspec": {
   "display_name": "Python 3",
   "language": "python",
   "name": "python3"
  },
  "language_info": {
   "codemirror_mode": {
    "name": "ipython",
    "version": 3
   },
   "file_extension": ".py",
   "mimetype": "text/x-python",
   "name": "python",
   "nbconvert_exporter": "python",
   "pygments_lexer": "ipython3",
   "version": "3.6.5"
  }
 },
 "nbformat": 4,
 "nbformat_minor": 2
}
